{
 "cells": [
  {
   "cell_type": "code",
   "execution_count": 84,
   "metadata": {},
   "outputs": [],
   "source": [
    "import requests\n",
    "from bs4 import BeautifulSoup\n",
    "import re"
   ]
  },
  {
   "cell_type": "code",
   "execution_count": 85,
   "metadata": {},
   "outputs": [
    {
     "data": {
      "text/plain": [
       "<Response [200]>"
      ]
     },
     "execution_count": 85,
     "metadata": {},
     "output_type": "execute_result"
    }
   ],
   "source": [
    "url='https://hojemacau.com.mo/'\n",
    "headers={'USER-AGENT': 'Mozilla/5.0 (Windows NT 10.0; Win64; x64) AppleWebKit/537.36 (KHTML, like Gecko) Chrome/128.0.0.0 Safari/537.36 Edg/128.0.0.0'}\n",
    "r=requests.get(url, headers=headers)\n",
    "r"
   ]
  },
  {
   "cell_type": "code",
   "execution_count": 86,
   "metadata": {},
   "outputs": [],
   "source": [
    "soup=BeautifulSoup(r.content)\n",
    "lst_post=soup.find_all('h3', {'class': re.compile('post_title')})\n",
    "restructured_posts=[]\n",
    "for post in lst_post:\n",
    "    dict_post={}\n",
    "    dict_post['title']=post.a.text\n",
    "    dict_post['link']=post.a.get('href')\n",
    "    restructured_posts.append(dict_post)\n"
   ]
  },
  {
   "cell_type": "code",
   "execution_count": 89,
   "metadata": {},
   "outputs": [],
   "source": [
    "lst_post=soup.find_all('div', {'class': 'jeg_postblock_content'})\n",
    "# post=lst_post[0]\n",
    "\n",
    "def get_article(url):\n",
    "    headers={'USER-AGENT': 'Mozilla/5.0 (Windows NT 10.0; Win64; x64) AppleWebKit/537.36 (KHTML, like Gecko) Chrome/128.0.0.0 Safari/537.36 Edg/128.0.0.0'}\n",
    "    r=requests.get(url, headers=headers)\n",
    "    soup=BeautifulSoup(r.content)\n",
    "    if soup.find('time', {'class': 'entry-date published updated'}):\n",
    "        date=soup.find('time', {'class': 'entry-date published updated'}).get('datetime')\n",
    "    else:\n",
    "        date=None\n",
    "        \n",
    "    if soup.find('div', {'class': 'entry-content'}):\n",
    "        content=soup.find('div', {'class': 'entry-content'}).text\n",
    "    else:\n",
    "        content=None\n",
    "    return date, content\n",
    "\n",
    "restructured_posts=[]\n",
    "for idx, post in enumerate(lst_post):\n",
    "    if post.find('div', {'class': re.compile('post_category')}):\n",
    "        cat=post.find('div', {'class': re.compile('post_category')}).a.text\n",
    "    else:\n",
    "        cat=None\n",
    "\n",
    "    if post.find('div', {'class': re.compile('author')}):\n",
    "        author=post.find('div', {'class': re.compile('author')}).a.text.strip()\n",
    "    else:\n",
    "        author=None\n",
    "    \n",
    "    if post.find('h2'):\n",
    "        head='h2'\n",
    "    elif post.find('h3'):\n",
    "        head='h3' \n",
    "    title=post.find(head, {'class': re.compile('post_title')}).a.text\n",
    "    link=post.find(head, {'class': re.compile('post_title')}).a.get('href')\n",
    "    date, content=get_article(link)\n",
    "\n",
    "    dict_post={\n",
    "        'title': title,\n",
    "        'category': cat,\n",
    "        'author': author,\n",
    "        'link': link,\n",
    "        'date': date,\n",
    "        'content': content\n",
    "    }\n",
    "    restructured_posts.append(dict_post)"
   ]
  },
  {
   "cell_type": "code",
   "execution_count": 90,
   "metadata": {},
   "outputs": [
    {
     "data": {
      "text/plain": [
       "{'title': 'Associação Chinesa de Futebol bane 43 pessoas por corrupção',\n",
       " 'category': 'China / Ásia',\n",
       " 'author': None,\n",
       " 'link': 'https://hojemacau.com.mo/2024/09/10/associacao-chinesa-de-futebol-bane-43-pessoas-por-corrupcao/',\n",
       " 'date': '2024-09-10T22:36:38+08:00',\n",
       " 'content': '\\nA Associação Chinesa de Futebol (CFA) baniu 43 pessoas de participarem em actividades relacionadas com o futebol, devido ao seu envolvimento em manipulação de resultados e outras formas de corrupção.\\nZhang Xiaopeng, um alto funcionário da polícia chinesa, divulgou ontem em conferência de imprensa os pormenores de uma “investigação de dois anos que revelou uma série de casos de apostas online, viciação de resultados e subornos”, segundo a agência noticiosa oficial Xinhua.\\nSegundo a Xinhua, a investigação envolveu 120 jogos dos campeonatos chineses, 128 suspeitos de crimes e 41 clubes. Entre as pessoas banidas, 38 eram jogadores e cinco eram funcionários de vários clubes. Os antigos jogadores da selecção chinesa Jin Jingdao, Guo Tianyu e Gu Chao foram proibidos de participarem em actividades relacionadas com o futebol para sempre.\\nOutros jogadores e dirigentes receberam punições menos severas, incluindo jogadores estrangeiros atraídos para a China pela promessa de salários elevados. O sul-coreano Son Jun-ho, que jogava no Shandong Taishan, da China, e o camaronês Ewolo Donovan, que jogava no Heilongjiang Ice City, foram suspensos por cinco anos.\\nAs acções de Son “violaram gravemente a ética e o espírito desportivo, causando um impacto negativo significativo na sociedade”, de acordo com o comunicado da federação.\\nO Presidente chinês, Xi Jinping, prometeu fazer da China uma superpotência do futebol, mas as equipas masculinas não têm tido grande sucesso. As promessas de construção de novos campos e de contratação de pessoal ficaram aquém das expectativas, numa altura em que os clubes chineses se tentam reerguer após o impacto da pandemia de covid-19.\\n'}"
      ]
     },
     "execution_count": 90,
     "metadata": {},
     "output_type": "execute_result"
    }
   ],
   "source": [
    "restructured_posts[0]"
   ]
  },
  {
   "cell_type": "code",
   "execution_count": 92,
   "metadata": {},
   "outputs": [],
   "source": [
    "\n",
    "import xml.etree.ElementTree as ET\n",
    "\n",
    "# Create the root of the RSS feed\n",
    "rss = ET.Element('rss', version='2.0')\n",
    "channel = ET.SubElement(rss, 'channel')\n",
    "\n",
    "# Add channel elements\n",
    "ET.SubElement(channel, 'title').text = 'Hoje Macau'\n",
    "ET.SubElement(channel, 'link').text = url\n",
    "ET.SubElement(channel, 'description').text = 'Hoje Macau RSS'\n",
    "\n",
    "# Add items\n",
    "for item in restructured_posts:\n",
    "    item_elem = ET.SubElement(channel, 'item')\n",
    "    ET.SubElement(item_elem, 'title').text = item['title']\n",
    "    ET.SubElement(item_elem, 'link').text = item['link']\n",
    "    ET.SubElement(item_elem, 'description').text = item['content']\n",
    "    ET.SubElement(item_elem, 'pubDate').text = item['date']\n",
    "\n",
    "# Convert to string and save to an XML file\n",
    "rss_feed = ET.tostring(rss, encoding='utf-8', method='xml').decode()\n",
    "with open('Hoje_Macau.xml', 'w', encoding='utf-8') as xml_file:\n",
    "    xml_file.write(rss_feed)"
   ]
  },
  {
   "cell_type": "code",
   "execution_count": null,
   "metadata": {},
   "outputs": [],
   "source": []
  }
 ],
 "metadata": {
  "kernelspec": {
   "display_name": ".venv",
   "language": "python",
   "name": "python3"
  },
  "language_info": {
   "codemirror_mode": {
    "name": "ipython",
    "version": 3
   },
   "file_extension": ".py",
   "mimetype": "text/x-python",
   "name": "python",
   "nbconvert_exporter": "python",
   "pygments_lexer": "ipython3",
   "version": "3.12.0"
  }
 },
 "nbformat": 4,
 "nbformat_minor": 2
}
